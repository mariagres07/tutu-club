{
 "cells": [
  {
   "cell_type": "code",
   "execution_count": null,
   "metadata": {},
   "outputs": [],
   "source": [
    "import os\n",
    "import tensorflow as tf\n",
    "import numpy as np\n",
    "import matplotlib.pyplot as plt\n",
    "from IPython.display import clear_output as cls\n",
    "from tensorflow.keras.models import Sequential\n",
    "from tensorflow.keras.layers import Conv2D, MaxPooling2D, Flatten, Dense, Dropout\n",
    "from tensorflow.keras.optimizers import Adam\n",
    "from tensorflow.keras.callbacks import EarlyStopping\n",
    "from tensorflow.keras.preprocessing import image\n",
    "from tensorflow.keras.preprocessing.image import ImageDataGenerator\n",
    "\n",
    "!pip install gdown\n",
    "\n",
    "!rm -r dataset\n",
    "!gdown \"https://drive.google.com/uc?id=1js_i9TLOJzIGNf0G88JT_OkDHdFM98o0\" -O dataset.zip\n",
    "!unzip dataset.zip -d dataset\n",
    "\n",
    "cls()\n",
    "\n",
    "# Membuat ImageDataGenerator untuk augmentasi dan preprocessing\n",
    "train_data = ImageDataGenerator(rescale=1./255, validation_split=0.2)\n",
    "# Memuat dataset berdasarkan struktur folder\n",
    "train_generator = train_data.flow_from_directory(\n",
    "'sample_data/train',  # path ke folder dataset\n",
    "    target_size=(150, 150),  # ukuran gambar yang di-resize\n",
    "    batch_size=32,\n",
    "    class_mode='binary',  # 'binary' untuk 2 kelas, 'categorical' untuk multi kelas\n",
    "    subset='training'  # subset untuk training\n",
    ")\n",
    "\n",
    "val_generator = train_data.flow_from_directory(\n",
    "    'dataset/train',\n",
    "    target_size=(150, 150),\n",
    "    batch_size=32,\n",
    "    class_mode='binary',\n",
    "    subset='validation'  # subset untuk validasi\n",
    ")\n"
   ]
  }
 ],
 "metadata": {
  "language_info": {
   "name": "python"
  }
 },
 "nbformat": 4,
 "nbformat_minor": 2
}
